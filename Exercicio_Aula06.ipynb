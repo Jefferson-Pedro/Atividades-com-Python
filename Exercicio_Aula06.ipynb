{
  "nbformat": 4,
  "nbformat_minor": 0,
  "metadata": {
    "colab": {
      "provenance": [],
      "authorship_tag": "ABX9TyNozoebQahoIXsHGyadLhGY",
      "include_colab_link": true
    },
    "kernelspec": {
      "name": "python3",
      "display_name": "Python 3"
    },
    "language_info": {
      "name": "python"
    }
  },
  "cells": [
    {
      "cell_type": "markdown",
      "metadata": {
        "id": "view-in-github",
        "colab_type": "text"
      },
      "source": [
        "<a href=\"https://colab.research.google.com/github/Jefferson-Pedro/BigData-com-Python/blob/main/Exercicio_Aula06.ipynb\" target=\"_parent\"><img src=\"https://colab.research.google.com/assets/colab-badge.svg\" alt=\"Open In Colab\"/></a>"
      ]
    },
    {
      "cell_type": "markdown",
      "source": [
        "# Desafio 1 – Leia o arquivo “analise_homicidio.csv” e faça o tratamento dos dados  lidos com split(), de tal forma que os dados fiquem nas colunas exatas nas listas."
      ],
      "metadata": {
        "id": "00WKodKsZPeC"
      }
    },
    {
      "cell_type": "markdown",
      "source": [
        "Dados lidos com problema:\n",
        "['No;DATA;HORA;INCIDENTE;SEXO;IDADE;MUNICÍPIO']\n",
        "['41290653;01/01/2020;03:27;HOMICÍDIO', 'DOLOSO;M;27;VILA', 'VELHA']\n",
        "\n",
        "\n",
        "Dados lidos e corrigidos:\n",
        "['No;DATA;HORA;INCIDENTE;SEXO;IDADE;MUNICÍPIO']\n",
        "['41290653;01/01/2020;03:27;HOMICÍDIO DOLOSO;M;27;VILA VELHA']\n"
      ],
      "metadata": {
        "id": "KVB36J5rZ8lZ"
      }
    },
    {
      "cell_type": "code",
      "source": [],
      "metadata": {
        "id": "nqqmnfHDaSoq"
      },
      "execution_count": null,
      "outputs": []
    }
  ]
}
