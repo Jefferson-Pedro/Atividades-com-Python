{
  "nbformat": 4,
  "nbformat_minor": 0,
  "metadata": {
    "colab": {
      "provenance": []
    },
    "kernelspec": {
      "name": "python3",
      "display_name": "Python 3"
    },
    "language_info": {
      "name": "python"
    }
  },
  "cells": [
    {
      "cell_type": "markdown",
      "source": [
        "#1. Elabore um BD (nome e dados a seu critério) que:\n",
        "- Colete dados de um arquivo txt e;\n",
        "- Insira em uma tabela do seu banco de dados.\n",
        "- Sua tabela deve ter três campos ou mais.\n",
        "- Seu código deve fazer as operações de CRUD e;\n",
        "- Imprima os resultados."
      ],
      "metadata": {
        "id": "EcZeUkxW7N1S"
      }
    },
    {
      "cell_type": "code",
      "execution_count": null,
      "metadata": {
        "id": "ce62SuOg7JoW"
      },
      "outputs": [],
      "source": [
        "# Importanto Sqlite no Colab\n",
        "import sqlite3 as db\n"
      ]
    },
    {
      "cell_type": "code",
      "source": [
        "#Conectando ao banco de dados e criando as tabelas:\n",
        "data = db.connect('my_database')\n",
        "cursor = data.cursor()\n",
        "cursor.execute(\"CREATE TABLE IF NOT EXISTS tbl_alunos (nome text, rg text, cpf text, data_nasc date)\")\n",
        "data.commit()"
      ],
      "metadata": {
        "id": "kqp-1gTl8rVm"
      },
      "execution_count": null,
      "outputs": []
    },
    {
      "cell_type": "code",
      "source": [
        "# Abrindo o arquivo e conferindo se existe dados\n",
        "with open(\"arquivo.txt\", \"r\") as arquivo:\n",
        "  arq = arquivo.readlines()\n",
        "\n",
        "for line in arq:\n",
        "    info = line.strip().split(',')\n",
        "    print(info, type(info))"
      ],
      "metadata": {
        "colab": {
          "base_uri": "https://localhost:8080/"
        },
        "id": "wPvumU7_rq2V",
        "outputId": "ebd9d2d8-b0b3-4aa7-bd93-56064509dbab"
      },
      "execution_count": null,
      "outputs": [
        {
          "output_type": "stream",
          "name": "stdout",
          "text": [
            "['Jefferson Pedro', '12.345.678-9', '123.456.789-09', '25-05-1993', ''] <class 'list'>\n",
            "['Anna Thays', '12.345.678-9', '123.456.789-09', '03-05-1994', ''] <class 'list'>\n",
            "['Simone Gamastrix', '12.345.678-9', '123.456.789-09', '12-08-2000', ''] <class 'list'>\n",
            "['Asdrubaldo Corvaltino', ' 12.345.678-9', '123.456.789-09', '02-01-1980'] <class 'list'>\n"
          ]
        }
      ]
    },
    {
      "cell_type": "code",
      "source": [
        "# Coletando dados de um arquivo txt (seguir as orientações abaixo):\n",
        "with open(\"arquivo.txt\", \"r\") as arquivo:\n",
        "  arq = arquivo.readlines()\n",
        "\n",
        "# Loop para inserir os dados na tabela\n",
        "for line in arq:\n",
        "    info = line.strip().split(',')\n",
        "\n",
        "    nome = info[0].strip()\n",
        "    rg = info[1].strip()\n",
        "    cpf = info[2].strip()\n",
        "    data_nasc = info[3].strip()\n",
        "\n",
        "    # Comando SQL para inserir dados com parâmetros\n",
        "    comando_sql = \"INSERT INTO tbl_alunos (nome, rg, cpf, data_nasc) VALUES (?, ?, ?, ?)\"\n",
        "\n",
        "    # Valores a serem inseridos\n",
        "    valores = (nome, rg, cpf, data_nasc)\n",
        "\n",
        "    # Comando SQL para inserção\n",
        "    cursor.execute(comando_sql, valores)\n",
        "\n",
        "data.commit()\n"
      ],
      "metadata": {
        "id": "Ou-jvLUXrfTI"
      },
      "execution_count": null,
      "outputs": []
    },
    {
      "cell_type": "code",
      "source": [
        "# Comando SQL de consulta\n",
        "read_db = cursor.execute('SELECT * FROM tbl_alunos').fetchall()\n",
        "for line in read_db:\n",
        "  print(line)"
      ],
      "metadata": {
        "id": "maAPbGzTAmXe",
        "colab": {
          "base_uri": "https://localhost:8080/"
        },
        "outputId": "1dec2586-e193-4c61-8140-f6e483b2f98a"
      },
      "execution_count": null,
      "outputs": [
        {
          "output_type": "stream",
          "name": "stdout",
          "text": [
            "('Jefferson Pedro', '12.345.678-9', '123.456.789-09', '25-05-1993')\n",
            "('Anna Thays', '12.345.678-9', '123.456.789-09', '03-05-1994')\n",
            "('Simone Gama', '12.345.678-9', '123.456.789-09', '12-08-2000')\n"
          ]
        }
      ]
    },
    {
      "cell_type": "code",
      "source": [
        "# Comando SQL de atualização\n",
        "update_db = cursor.execute('''\n",
        "    UPDATE tbl_alunos\n",
        "    SET nome = 'Simone Gama'\n",
        "    WHERE nome = 'Simone Gamastrix';\n",
        "    '''\n",
        ")\n",
        "\n",
        "data.commit()\n",
        "\n",
        "#Conferindo os valores\n",
        "read_db = cursor.execute('SELECT * FROM tbl_alunos').fetchall()\n",
        "for line in read_db:\n",
        "  print(line)\n"
      ],
      "metadata": {
        "id": "X44icAjwTifT",
        "colab": {
          "base_uri": "https://localhost:8080/"
        },
        "outputId": "9faa5373-4fe6-4193-ef74-131433c3c9f6"
      },
      "execution_count": null,
      "outputs": [
        {
          "output_type": "stream",
          "name": "stdout",
          "text": [
            "('Jefferson Pedro', '12.345.678-9', '123.456.789-09', '25-05-1993')\n",
            "('Anna Thays', '12.345.678-9', '123.456.789-09', '03-05-1994')\n",
            "('Simone Gama', '12.345.678-9', '123.456.789-09', '12-08-2000')\n"
          ]
        }
      ]
    },
    {
      "cell_type": "code",
      "source": [
        "# Comando SQL de delete\n",
        "delete_info = cursor.execute(\n",
        "    '''\n",
        "    DELETE from tbl_alunos\n",
        "    WHERE Nome = 'Asdrubaldo Corvaltino'\n",
        "    '''\n",
        ").fetchall()\n",
        "\n",
        "#Conferindo os valores\n",
        "read_db = cursor.execute('SELECT * FROM tbl_alunos').fetchall()\n",
        "\n",
        "for line in read_db:\n",
        "  print(line)\n",
        "\n"
      ],
      "metadata": {
        "colab": {
          "base_uri": "https://localhost:8080/"
        },
        "id": "_JL4-XSSK7CI",
        "outputId": "f379c2cd-01d4-4598-f4bb-57486ddf3d18"
      },
      "execution_count": null,
      "outputs": [
        {
          "output_type": "stream",
          "name": "stdout",
          "text": [
            "('Jefferson Pedro', '12.345.678-9', '123.456.789-09', '25-05-1993')\n",
            "('Anna Thays', '12.345.678-9', '123.456.789-09', '03-05-1994')\n",
            "('Simone Gama', '12.345.678-9', '123.456.789-09', '12-08-2000')\n"
          ]
        }
      ]
    },
    {
      "cell_type": "markdown",
      "source": [
        "# Orientações:\n",
        "\n",
        "1- Dê dois cliques e cole o seguinte texto no txt:\n",
        "\n",
        "Jefferson Pedro,12.345.678-9,123.456.789-09,25-05-1993,\n",
        "Anna Thays,12.345.678-9,123.456.789-09,03-05-1994,\n",
        "Simone Gamastrix,12.345.678-9,123.456.789-09,12-08-2000,\n",
        "Asdrubaldo Corvaltino, 12.345.678-9,123.456.789-09,02-01-1980\n",
        "\n",
        "2- Crie um txt com o nome \"arquivo.txt\" suba no seu projeto.\n",
        "\n",
        "3- Se você estiver utilizando o Colab, não é necessário instalação do banco de dados SqLite.\n"
      ],
      "metadata": {
        "id": "uC_-OOnC77E9"
      }
    },
    {
      "cell_type": "markdown",
      "source": [],
      "metadata": {
        "id": "FnUqlOfJ9IH7"
      }
    }
  ]
}